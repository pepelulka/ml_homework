{
  "cells": [
    {
      "attachments": {},
      "cell_type": "markdown",
      "id": "5372eb6b",
      "metadata": {
        "id": "5372eb6b"
      },
      "source": [
        "# Домашняя работа по регуляризации и оптимизации\n",
        "\n",
        "Ниже приводится корпус данных с двумя метками: 1 и -1. К данным применяется линейная модель классификации:\n",
        "\n",
        "$f(x, \\theta) = x_1 \\theta_1 + x_2 \\theta_2 + \\theta_3.$\n",
        "\n",
        "Предлагается подобрать параметры $\\theta$ минимизируя следующую функцию ошибки:\n",
        "\n",
        "$\\mathcal{L}(\\theta) = 0.1 \\|\\theta\\|^2 + \\frac{1}{N}\\sum\\limits_{i=1}^N \\max(0, 1 - y_i f(x_i, \\theta)).$\n",
        "\n",
        "Для оптимизации предлагается использовать метод градиентного спуска с 1000 шагами размера $0.1$ из начальной точки $(1, 1, 0)$."
      ]
    },
    {
      "attachments": {},
      "cell_type": "markdown",
      "id": "ewj0Ikuy22Mj",
      "metadata": {
        "id": "ewj0Ikuy22Mj"
      },
      "source": [
        "Набор данных \\\\\n",
        "\n",
        "|    |   |   |   |      |      |\n",
        "|----|---|---|---|------|------|\n",
        "| X1 | 0 | 1 | 1 | -0.5 |  0   |\n",
        "| X2 | 1 | 1 | 0 |  0.5 | -0.5 |\n",
        "|  Y | 1 | 1 | 1 | -1   | -1   |\n",
        "\n",
        "$ \\theta_{start} = (1, 1, 0) $ "
      ]
    },
    {
      "cell_type": "code",
      "execution_count": null,
      "id": "84be44bf",
      "metadata": {
        "id": "84be44bf"
      },
      "outputs": [],
      "source": [
        "import numpy as np\n",
        "import yaml"
      ]
    },
    {
      "cell_type": "code",
      "execution_count": null,
      "id": "8e381337",
      "metadata": {
        "colab": {
          "base_uri": "https://localhost:8080/"
        },
        "id": "8e381337",
        "outputId": "56e0e42a-f04a-4ac9-b124-a8d7a2dd4605"
      },
      "outputs": [
        {
          "name": "stdout",
          "output_type": "stream",
          "text": [
            "Prediction: [ 1.   2.   1.   0.  -0.5]\n",
            "Loss: 0.5\n"
          ]
        },
        {
          "data": {
            "text/plain": [
              "array([0, 1, 1, 1, 1])"
            ]
          },
          "execution_count": 8,
          "metadata": {},
          "output_type": "execute_result"
        }
      ],
      "source": [
        "X = np.array([\n",
        "    [0, 1],\n",
        "    [1, 1],\n",
        "    [1, 0],\n",
        "    [-0.5, 0.5],\n",
        "    [0, -0.5]\n",
        "])\n",
        "\n",
        "y = np.array([1, 1, 1, -1, -1])\n",
        "\n",
        "theta0 = np.array([1.0, 1.0, 0.0])\n",
        "\n",
        "lr = 0.1\n",
        "\n",
        "def f(X, theta):\n",
        "    theta = np.asarray(theta)\n",
        "    return (X * theta[:2]).sum(axis=-1) + theta[2]\n",
        "\n",
        "def loss(X, y, theta):\n",
        "    theta = np.asarray(theta)\n",
        "    norm = (theta ** 2).sum()\n",
        "    deltas = y * f(X, theta)\n",
        "    return 0.1 * norm + np.mean(np.maximum(0, 1 - deltas))\n",
        "\n",
        "print(\"Prediction:\", f(X, theta0))\n",
        "print(\"Loss:\", loss(X, y, theta0))\n",
        "\n",
        "\n",
        "\n",
        "deltas = np.array([0, 0.5, 0.64, 0.7, 0.7 ])\n",
        "mask = np.ceil(deltas).astype(np.int64) #создаем маску из \n",
        "mask"
      ]
    },
    {
      "attachments": {},
      "cell_type": "markdown",
      "id": "MUkIZ4yB7sWs",
      "metadata": {
        "id": "MUkIZ4yB7sWs"
      },
      "source": [
        "Найдём производные функции линейной модели классификации и функции ошибки: \\\\\n",
        "Производная функции линейной модели по $\\theta$: \\\\\n",
        "$  \\frac{df(\\theta)}{d\\theta_k} = x_1 + x_2 + 1 $ \\\\\n",
        "Производная функции ошибки $\\theta$: \\\\\n",
        "$\\frac{d\\mathcal{L}(\\theta)}{d\\theta_k} =  2*0.1*\\theta_k + \\frac{1}{N}\\sum\\limits_{i=1}^N\\begin{cases}\n",
        "  0 & \\text{if  }  (1 - y_i f(x_i, \\theta)) \\leq 0 \\\\\n",
        "  -y_i * \\frac{\\mathrm d}{\\mathrm d \\theta_k}f(x_i, \\theta)& \\text{else}\n",
        "\\end{cases}$\n",
        "\n"
      ]
    },
    {
      "cell_type": "code",
      "execution_count": null,
      "id": "ca79f1da",
      "metadata": {
        "id": "ca79f1da"
      },
      "outputs": [],
      "source": [
        "# Ваш код оптимизации.\n",
        "def diff_f(X):\n",
        "  X_t = X.transpose()\n",
        "  return np.array([X_t[0], X_t[1], [1] * len(X_t[0])])\n",
        "\n",
        "def diff_loss(X, y, theta):\n",
        "  theta = np.asarray(theta)\n",
        "\n",
        "\n",
        "  norm = 2*0.1*theta\n",
        "  \n",
        "  deltas = np.maximum(0, 1 - y*f(X, theta)) #находим значения лежащие в [0; 1], то есть те, которые подходят под условие if(1−y_i*f(x_i,θ))≤0)\n",
        "  mask = np.ceil(deltas).astype(np.int64) #создаем маску из ненулевых значений\n",
        "\n",
        "  deltas_diff = mask*((-1)*y*diff_f(X)) #применяем маску к производным deltas\n",
        "  return norm + np.mean(deltas_diff, axis=1)\n",
        "\n",
        "theta = theta0\n",
        "X_t = X.transpose()\n",
        "\n"
      ]
    },
    {
      "cell_type": "code",
      "execution_count": null,
      "id": "YraayxqTJAA1",
      "metadata": {
        "id": "YraayxqTJAA1"
      },
      "outputs": [],
      "source": [
        "theta = theta0\n",
        "for step in range(10000):\n",
        "  theta = theta - lr * diff_loss(X, y, theta)"
      ]
    },
    {
      "cell_type": "code",
      "execution_count": null,
      "id": "011ca5b7",
      "metadata": {
        "colab": {
          "base_uri": "https://localhost:8080/"
        },
        "id": "011ca5b7",
        "outputId": "e6b78ba5-018b-4490-9433-f9efdebccc0f"
      },
      "outputs": [
        {
          "name": "stdout",
          "output_type": "stream",
          "text": [
            "Prediction: [ 0.74994308  1.99988615  0.99988615 -0.37502846 -0.75005692]\n",
            "Loss: 0.48750569295176926\n"
          ]
        }
      ],
      "source": [
        "print(\"Prediction:\", f(X, theta))\n",
        "print(\"Loss:\", loss(X, y, theta))\n",
        "\n",
        "with open(\"submission.yaml\", \"w\") as fp:\n",
        "    yaml.safe_dump({\"tasks\": [{\"task1\": {\"answer\": theta.tolist()}}]}, fp)"
      ]
    }
  ],
  "metadata": {
    "colab": {
      "provenance": []
    },
    "gpuClass": "standard",
    "kernelspec": {
      "display_name": "Python 3",
      "language": "python",
      "name": "python3"
    },
    "language_info": {
      "codemirror_mode": {
        "name": "ipython",
        "version": 3
      },
      "file_extension": ".py",
      "mimetype": "text/x-python",
      "name": "python",
      "nbconvert_exporter": "python",
      "pygments_lexer": "ipython3",
      "version": "3.8.9"
    }
  },
  "nbformat": 4,
  "nbformat_minor": 5
}
