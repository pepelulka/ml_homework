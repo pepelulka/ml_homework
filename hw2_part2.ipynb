{
  "cells": [
    {
      "cell_type": "code",
      "execution_count": null,
      "metadata": {
        "id": "y3DiadTG-ru-"
      },
      "outputs": [],
      "source": [
        "import pandas as pd\n",
        "import numpy as np\n",
        "from matplotlib import pyplot as plt\n",
        "import seaborn \n",
        "import plotly.express as px"
      ]
    },
    {
      "attachments": {},
      "cell_type": "markdown",
      "metadata": {
        "id": "-QpBS-Nd-fAO"
      },
      "source": [
        "# Домашняя работа: деревья решений"
      ]
    },
    {
      "attachments": {},
      "cell_type": "markdown",
      "metadata": {
        "id": "1ZVCYFgU-5Tw"
      },
      "source": [
        "В этой домашней работе вам предстоит научиться предсказывать цены товаров из маркетплейса Azamon.\n",
        "\n",
        "Требования к домашней работе:\n",
        "- Во всех графиках должны быть подписи через title, legend, etc.\n",
        "- Во время обучения моделей проверяйте, что у вас не текут данные. Обычно это позитивно влияет на качество модели на тесте, но негативно влияет на оценку 🌚\n",
        "- Если вы сдаете работу в Google Colaboratory, убедитесь, что ваша тетрадка доступна по ссылке.\n",
        "- Использование мемов допускается, но необходимо соблюдать меру. Несодержательная работа, состоящая только из мемов, получает 0 баллов."
      ]
    },
    {
      "attachments": {},
      "cell_type": "markdown",
      "metadata": {
        "id": "JyTAlXb8CbXk"
      },
      "source": [
        "# Загрузка и подготовка данных"
      ]
    },
    {
      "attachments": {},
      "cell_type": "markdown",
      "metadata": {
        "id": "X-ip4eE226T7"
      },
      "source": [
        "Подключим диск"
      ]
    },
    {
      "cell_type": "code",
      "execution_count": null,
      "metadata": {
        "colab": {
          "base_uri": "https://localhost:8080/"
        },
        "id": "cacsMWNx20pi",
        "outputId": "6d376c6b-dfb7-497a-c3a8-e5b69614417e"
      },
      "outputs": [
        {
          "name": "stdout",
          "output_type": "stream",
          "text": [
            "Drive already mounted at /content/drive; to attempt to forcibly remount, call drive.mount(\"/content/drive\", force_remount=True).\n"
          ]
        }
      ],
      "source": [
        "from google.colab import drive\n",
        "drive.mount('/content/drive')"
      ]
    },
    {
      "cell_type": "code",
      "execution_count": null,
      "metadata": {
        "colab": {
          "base_uri": "https://localhost:8080/",
          "height": 423
        },
        "id": "F2E5EuMR0JTj",
        "outputId": "82a53c28-e811-470e-ee33-b5380f85cd0d"
      },
      "outputs": [
        {
          "data": {
            "text/html": [
              "\n",
              "  <div id=\"df-d7d32883-e8d1-4706-8b43-8deae65210ed\">\n",
              "    <div class=\"colab-df-container\">\n",
              "      <div>\n",
              "<style scoped>\n",
              "    .dataframe tbody tr th:only-of-type {\n",
              "        vertical-align: middle;\n",
              "    }\n",
              "\n",
              "    .dataframe tbody tr th {\n",
              "        vertical-align: top;\n",
              "    }\n",
              "\n",
              "    .dataframe thead th {\n",
              "        text-align: right;\n",
              "    }\n",
              "</style>\n",
              "<table border=\"1\" class=\"dataframe\">\n",
              "  <thead>\n",
              "    <tr style=\"text-align: right;\">\n",
              "      <th></th>\n",
              "      <th>manufacturer</th>\n",
              "      <th>price</th>\n",
              "      <th>number_available_in_stock</th>\n",
              "      <th>number_of_reviews</th>\n",
              "      <th>number_of_answered_questions</th>\n",
              "      <th>average_review_rating</th>\n",
              "      <th>amazon_category_and_sub_category</th>\n",
              "    </tr>\n",
              "  </thead>\n",
              "  <tbody>\n",
              "    <tr>\n",
              "      <th>0</th>\n",
              "      <td>Hornby</td>\n",
              "      <td>£3.42</td>\n",
              "      <td>5 new</td>\n",
              "      <td>15</td>\n",
              "      <td>1.0</td>\n",
              "      <td>4.9 out of 5 stars</td>\n",
              "      <td>Hobbies &gt; Model Trains &amp; Railway Sets &gt; Rail V...</td>\n",
              "    </tr>\n",
              "    <tr>\n",
              "      <th>1</th>\n",
              "      <td>FunkyBuys</td>\n",
              "      <td>£16.99</td>\n",
              "      <td>NaN</td>\n",
              "      <td>2</td>\n",
              "      <td>1.0</td>\n",
              "      <td>4.5 out of 5 stars</td>\n",
              "      <td>Hobbies &gt; Model Trains &amp; Railway Sets &gt; Rail V...</td>\n",
              "    </tr>\n",
              "    <tr>\n",
              "      <th>2</th>\n",
              "      <td>ccf</td>\n",
              "      <td>£9.99</td>\n",
              "      <td>2 new</td>\n",
              "      <td>17</td>\n",
              "      <td>2.0</td>\n",
              "      <td>3.9 out of 5 stars</td>\n",
              "      <td>Hobbies &gt; Model Trains &amp; Railway Sets &gt; Rail V...</td>\n",
              "    </tr>\n",
              "    <tr>\n",
              "      <th>3</th>\n",
              "      <td>Hornby</td>\n",
              "      <td>£39.99</td>\n",
              "      <td>NaN</td>\n",
              "      <td>1</td>\n",
              "      <td>2.0</td>\n",
              "      <td>5.0 out of 5 stars</td>\n",
              "      <td>Hobbies &gt; Model Trains &amp; Railway Sets &gt; Rail V...</td>\n",
              "    </tr>\n",
              "    <tr>\n",
              "      <th>4</th>\n",
              "      <td>Hornby</td>\n",
              "      <td>£32.19</td>\n",
              "      <td>NaN</td>\n",
              "      <td>3</td>\n",
              "      <td>2.0</td>\n",
              "      <td>4.7 out of 5 stars</td>\n",
              "      <td>Hobbies &gt; Model Trains &amp; Railway Sets &gt; Rail V...</td>\n",
              "    </tr>\n",
              "    <tr>\n",
              "      <th>...</th>\n",
              "      <td>...</td>\n",
              "      <td>...</td>\n",
              "      <td>...</td>\n",
              "      <td>...</td>\n",
              "      <td>...</td>\n",
              "      <td>...</td>\n",
              "      <td>...</td>\n",
              "    </tr>\n",
              "    <tr>\n",
              "      <th>9995</th>\n",
              "      <td>Mattel</td>\n",
              "      <td>£22.95</td>\n",
              "      <td>5 new</td>\n",
              "      <td>3</td>\n",
              "      <td>3.0</td>\n",
              "      <td>5.0 out of 5 stars</td>\n",
              "      <td>Hobbies &gt; Collectible Figures &amp; Memorabilia &gt; ...</td>\n",
              "    </tr>\n",
              "    <tr>\n",
              "      <th>9996</th>\n",
              "      <td>Star Wars</td>\n",
              "      <td>£39.99</td>\n",
              "      <td>NaN</td>\n",
              "      <td>1</td>\n",
              "      <td>3.0</td>\n",
              "      <td>4.0 out of 5 stars</td>\n",
              "      <td>Characters &amp; Brands &gt; Star Wars &gt; Toys</td>\n",
              "    </tr>\n",
              "    <tr>\n",
              "      <th>9997</th>\n",
              "      <td>Olde Scotland Yard Ltd.</td>\n",
              "      <td>£43.99</td>\n",
              "      <td>3 new</td>\n",
              "      <td>1</td>\n",
              "      <td>3.0</td>\n",
              "      <td>5.0 out of 5 stars</td>\n",
              "      <td>Novelty &amp; Special Use &gt; Novelty &gt; Accessories ...</td>\n",
              "    </tr>\n",
              "    <tr>\n",
              "      <th>9998</th>\n",
              "      <td>DC Comics</td>\n",
              "      <td>£49.81</td>\n",
              "      <td>3 new</td>\n",
              "      <td>1</td>\n",
              "      <td>3.0</td>\n",
              "      <td>5.0 out of 5 stars</td>\n",
              "      <td>Hobbies &gt; Collectible Figures &amp; Memorabilia &gt; ...</td>\n",
              "    </tr>\n",
              "    <tr>\n",
              "      <th>9999</th>\n",
              "      <td>Bandai</td>\n",
              "      <td>£21.20</td>\n",
              "      <td>31 new</td>\n",
              "      <td>11</td>\n",
              "      <td>3.0</td>\n",
              "      <td>4.5 out of 5 stars</td>\n",
              "      <td>Characters &amp; Brands &gt; Star Wars &gt; Toys</td>\n",
              "    </tr>\n",
              "  </tbody>\n",
              "</table>\n",
              "<p>10000 rows × 7 columns</p>\n",
              "</div>\n",
              "      <button class=\"colab-df-convert\" onclick=\"convertToInteractive('df-d7d32883-e8d1-4706-8b43-8deae65210ed')\"\n",
              "              title=\"Convert this dataframe to an interactive table.\"\n",
              "              style=\"display:none;\">\n",
              "        \n",
              "  <svg xmlns=\"http://www.w3.org/2000/svg\" height=\"24px\"viewBox=\"0 0 24 24\"\n",
              "       width=\"24px\">\n",
              "    <path d=\"M0 0h24v24H0V0z\" fill=\"none\"/>\n",
              "    <path d=\"M18.56 5.44l.94 2.06.94-2.06 2.06-.94-2.06-.94-.94-2.06-.94 2.06-2.06.94zm-11 1L8.5 8.5l.94-2.06 2.06-.94-2.06-.94L8.5 2.5l-.94 2.06-2.06.94zm10 10l.94 2.06.94-2.06 2.06-.94-2.06-.94-.94-2.06-.94 2.06-2.06.94z\"/><path d=\"M17.41 7.96l-1.37-1.37c-.4-.4-.92-.59-1.43-.59-.52 0-1.04.2-1.43.59L10.3 9.45l-7.72 7.72c-.78.78-.78 2.05 0 2.83L4 21.41c.39.39.9.59 1.41.59.51 0 1.02-.2 1.41-.59l7.78-7.78 2.81-2.81c.8-.78.8-2.07 0-2.86zM5.41 20L4 18.59l7.72-7.72 1.47 1.35L5.41 20z\"/>\n",
              "  </svg>\n",
              "      </button>\n",
              "      \n",
              "  <style>\n",
              "    .colab-df-container {\n",
              "      display:flex;\n",
              "      flex-wrap:wrap;\n",
              "      gap: 12px;\n",
              "    }\n",
              "\n",
              "    .colab-df-convert {\n",
              "      background-color: #E8F0FE;\n",
              "      border: none;\n",
              "      border-radius: 50%;\n",
              "      cursor: pointer;\n",
              "      display: none;\n",
              "      fill: #1967D2;\n",
              "      height: 32px;\n",
              "      padding: 0 0 0 0;\n",
              "      width: 32px;\n",
              "    }\n",
              "\n",
              "    .colab-df-convert:hover {\n",
              "      background-color: #E2EBFA;\n",
              "      box-shadow: 0px 1px 2px rgba(60, 64, 67, 0.3), 0px 1px 3px 1px rgba(60, 64, 67, 0.15);\n",
              "      fill: #174EA6;\n",
              "    }\n",
              "\n",
              "    [theme=dark] .colab-df-convert {\n",
              "      background-color: #3B4455;\n",
              "      fill: #D2E3FC;\n",
              "    }\n",
              "\n",
              "    [theme=dark] .colab-df-convert:hover {\n",
              "      background-color: #434B5C;\n",
              "      box-shadow: 0px 1px 3px 1px rgba(0, 0, 0, 0.15);\n",
              "      filter: drop-shadow(0px 1px 2px rgba(0, 0, 0, 0.3));\n",
              "      fill: #FFFFFF;\n",
              "    }\n",
              "  </style>\n",
              "\n",
              "      <script>\n",
              "        const buttonEl =\n",
              "          document.querySelector('#df-d7d32883-e8d1-4706-8b43-8deae65210ed button.colab-df-convert');\n",
              "        buttonEl.style.display =\n",
              "          google.colab.kernel.accessAllowed ? 'block' : 'none';\n",
              "\n",
              "        async function convertToInteractive(key) {\n",
              "          const element = document.querySelector('#df-d7d32883-e8d1-4706-8b43-8deae65210ed');\n",
              "          const dataTable =\n",
              "            await google.colab.kernel.invokeFunction('convertToInteractive',\n",
              "                                                     [key], {});\n",
              "          if (!dataTable) return;\n",
              "\n",
              "          const docLinkHtml = 'Like what you see? Visit the ' +\n",
              "            '<a target=\"_blank\" href=https://colab.research.google.com/notebooks/data_table.ipynb>data table notebook</a>'\n",
              "            + ' to learn more about interactive tables.';\n",
              "          element.innerHTML = '';\n",
              "          dataTable['output_type'] = 'display_data';\n",
              "          await google.colab.output.renderOutput(dataTable, element);\n",
              "          const docLink = document.createElement('div');\n",
              "          docLink.innerHTML = docLinkHtml;\n",
              "          element.appendChild(docLink);\n",
              "        }\n",
              "      </script>\n",
              "    </div>\n",
              "  </div>\n",
              "  "
            ],
            "text/plain": [
              "                 manufacturer   price number_available_in_stock  \\\n",
              "0                      Hornby   £3.42                     5 new   \n",
              "1                   FunkyBuys  £16.99                       NaN   \n",
              "2                         ccf   £9.99                     2 new   \n",
              "3                      Hornby  £39.99                       NaN   \n",
              "4                      Hornby  £32.19                       NaN   \n",
              "...                       ...     ...                       ...   \n",
              "9995                   Mattel  £22.95                     5 new   \n",
              "9996                Star Wars  £39.99                       NaN   \n",
              "9997  Olde Scotland Yard Ltd.  £43.99                     3 new   \n",
              "9998                DC Comics  £49.81                     3 new   \n",
              "9999                   Bandai  £21.20                    31 new   \n",
              "\n",
              "     number_of_reviews  number_of_answered_questions average_review_rating  \\\n",
              "0                   15                           1.0    4.9 out of 5 stars   \n",
              "1                    2                           1.0    4.5 out of 5 stars   \n",
              "2                   17                           2.0    3.9 out of 5 stars   \n",
              "3                    1                           2.0    5.0 out of 5 stars   \n",
              "4                    3                           2.0    4.7 out of 5 stars   \n",
              "...                ...                           ...                   ...   \n",
              "9995                 3                           3.0    5.0 out of 5 stars   \n",
              "9996                 1                           3.0    4.0 out of 5 stars   \n",
              "9997                 1                           3.0    5.0 out of 5 stars   \n",
              "9998                 1                           3.0    5.0 out of 5 stars   \n",
              "9999                11                           3.0    4.5 out of 5 stars   \n",
              "\n",
              "                       amazon_category_and_sub_category  \n",
              "0     Hobbies > Model Trains & Railway Sets > Rail V...  \n",
              "1     Hobbies > Model Trains & Railway Sets > Rail V...  \n",
              "2     Hobbies > Model Trains & Railway Sets > Rail V...  \n",
              "3     Hobbies > Model Trains & Railway Sets > Rail V...  \n",
              "4     Hobbies > Model Trains & Railway Sets > Rail V...  \n",
              "...                                                 ...  \n",
              "9995  Hobbies > Collectible Figures & Memorabilia > ...  \n",
              "9996             Characters & Brands > Star Wars > Toys  \n",
              "9997  Novelty & Special Use > Novelty > Accessories ...  \n",
              "9998  Hobbies > Collectible Figures & Memorabilia > ...  \n",
              "9999             Characters & Brands > Star Wars > Toys  \n",
              "\n",
              "[10000 rows x 7 columns]"
            ]
          },
          "execution_count": 29,
          "metadata": {},
          "output_type": "execute_result"
        }
      ],
      "source": [
        "path = '/content/drive/MyDrive/Colab Notebooks/ДЗ_деревья/2 дз/amazon_co-ecommerce_sample.csv'\n",
        "with open(path, 'r') as f:\n",
        "  source_df = pd.read_csv(f).drop(columns=[\n",
        "    'product_name',\n",
        "    'index',\n",
        "    'uniq_id',\n",
        "    'customers_who_bought_this_item_also_bought',\n",
        "    'items_customers_buy_after_viewing_this_item',\n",
        "    'sellers',\n",
        "    'description', # text\n",
        "    'product_information', # text\n",
        "    'product_description', # text\n",
        "    'customer_questions_and_answers', # text\n",
        "    'customer_reviews', # text\n",
        "])\n",
        "df = source_df.copy()\n",
        "df"
      ]
    },
    {
      "attachments": {},
      "cell_type": "markdown",
      "metadata": {
        "id": "O59k78A8C_yP"
      },
      "source": [
        "## Очистка данных (1 балл)\n",
        "\n",
        "Посмотрите на признаки. Есть ли в них пропуски? Какое соотношение между NaN'ами и общим количеством данных? Есть ли смысл выкидывать какие-либо данные из этого датасета?"
      ]
    },
    {
      "cell_type": "code",
      "execution_count": null,
      "metadata": {
        "colab": {
          "base_uri": "https://localhost:8080/"
        },
        "id": "oVbtABB-AcAD",
        "outputId": "92fe0220-cd12-4e27-a365-470be0c2603a"
      },
      "outputs": [
        {
          "data": {
            "text/plain": [
              "manufacturer                           7\n",
              "price                               1435\n",
              "number_available_in_stock           2500\n",
              "number_of_reviews                     18\n",
              "number_of_answered_questions         765\n",
              "average_review_rating                 18\n",
              "amazon_category_and_sub_category     690\n",
              "dtype: int64"
            ]
          },
          "execution_count": 30,
          "metadata": {},
          "output_type": "execute_result"
        }
      ],
      "source": [
        "df.isnull().sum() #проверим количество пустых данных по всем колонкам"
      ]
    },
    {
      "cell_type": "code",
      "execution_count": null,
      "metadata": {
        "colab": {
          "base_uri": "https://localhost:8080/"
        },
        "id": "N2oNNYYaETFP",
        "outputId": "d8f1d8e1-eec5-4697-8de0-29fb002885f3"
      },
      "outputs": [
        {
          "data": {
            "text/plain": [
              "manufacturer                        0.0007\n",
              "price                               0.1435\n",
              "number_available_in_stock           0.2500\n",
              "number_of_reviews                   0.0018\n",
              "number_of_answered_questions        0.0765\n",
              "average_review_rating               0.0018\n",
              "amazon_category_and_sub_category    0.0690\n",
              "dtype: float64"
            ]
          },
          "execution_count": 31,
          "metadata": {},
          "output_type": "execute_result"
        }
      ],
      "source": [
        "(df.shape[0] - df.count())/df.shape[0] #найдём отношение количества пустых значений к общему количеству данных в столбцах"
      ]
    },
    {
      "cell_type": "code",
      "execution_count": null,
      "metadata": {
        "id": "SqbLfEYLGJaf"
      },
      "outputs": [],
      "source": [
        "#df = df.drop(columns = ['number_available_in_stock']) #выбросим на четверть пустой ненужный столбец данных"
      ]
    },
    {
      "attachments": {},
      "cell_type": "markdown",
      "metadata": {
        "id": "eH688KdZDdKY"
      },
      "source": [
        "## Подготовка данных (3 балла)\n",
        "\n",
        "Обработайте признаки. Выполните кодирование категориальных признаков, заполните пропуски в числовых признаках. Обратите внимание, что в датасете есть признак, который разбивается на несколько подпризнаков. Что это за признак? Закодируйте и его.\n",
        "\n",
        "Дополнительные вопросы (+ 1 балл):\n",
        "- Какие из признаков в этом датасете лучше кодировать через ordinal encoding?\n",
        "- Какие из признаков допустимо кодировать через one-hot?\n",
        "\n",
        "Прим.: суммарно за эту секцию можно получить до 4 баллов."
      ]
    },
    {
      "cell_type": "code",
      "execution_count": null,
      "metadata": {
        "colab": {
          "base_uri": "https://localhost:8080/",
          "height": 206
        },
        "id": "fPeTVilkGIgP",
        "outputId": "244a1672-5330-422e-8d90-fbe225708bc7"
      },
      "outputs": [
        {
          "data": {
            "text/html": [
              "\n",
              "  <div id=\"df-a5597482-aa8f-4bad-8abc-df167705c8fd\">\n",
              "    <div class=\"colab-df-container\">\n",
              "      <div>\n",
              "<style scoped>\n",
              "    .dataframe tbody tr th:only-of-type {\n",
              "        vertical-align: middle;\n",
              "    }\n",
              "\n",
              "    .dataframe tbody tr th {\n",
              "        vertical-align: top;\n",
              "    }\n",
              "\n",
              "    .dataframe thead th {\n",
              "        text-align: right;\n",
              "    }\n",
              "</style>\n",
              "<table border=\"1\" class=\"dataframe\">\n",
              "  <thead>\n",
              "    <tr style=\"text-align: right;\">\n",
              "      <th></th>\n",
              "      <th>sub_category_0</th>\n",
              "      <th>sub_category_1</th>\n",
              "      <th>sub_category_2</th>\n",
              "      <th>sub_category_3</th>\n",
              "      <th>sub_category_4</th>\n",
              "    </tr>\n",
              "  </thead>\n",
              "  <tbody>\n",
              "    <tr>\n",
              "      <th>0</th>\n",
              "      <td>1</td>\n",
              "      <td>1</td>\n",
              "      <td>1</td>\n",
              "      <td>1</td>\n",
              "      <td>0</td>\n",
              "    </tr>\n",
              "    <tr>\n",
              "      <th>1</th>\n",
              "      <td>1</td>\n",
              "      <td>1</td>\n",
              "      <td>1</td>\n",
              "      <td>1</td>\n",
              "      <td>0</td>\n",
              "    </tr>\n",
              "    <tr>\n",
              "      <th>2</th>\n",
              "      <td>1</td>\n",
              "      <td>1</td>\n",
              "      <td>1</td>\n",
              "      <td>1</td>\n",
              "      <td>0</td>\n",
              "    </tr>\n",
              "    <tr>\n",
              "      <th>3</th>\n",
              "      <td>1</td>\n",
              "      <td>1</td>\n",
              "      <td>1</td>\n",
              "      <td>1</td>\n",
              "      <td>0</td>\n",
              "    </tr>\n",
              "    <tr>\n",
              "      <th>4</th>\n",
              "      <td>1</td>\n",
              "      <td>1</td>\n",
              "      <td>1</td>\n",
              "      <td>1</td>\n",
              "      <td>0</td>\n",
              "    </tr>\n",
              "  </tbody>\n",
              "</table>\n",
              "</div>\n",
              "      <button class=\"colab-df-convert\" onclick=\"convertToInteractive('df-a5597482-aa8f-4bad-8abc-df167705c8fd')\"\n",
              "              title=\"Convert this dataframe to an interactive table.\"\n",
              "              style=\"display:none;\">\n",
              "        \n",
              "  <svg xmlns=\"http://www.w3.org/2000/svg\" height=\"24px\"viewBox=\"0 0 24 24\"\n",
              "       width=\"24px\">\n",
              "    <path d=\"M0 0h24v24H0V0z\" fill=\"none\"/>\n",
              "    <path d=\"M18.56 5.44l.94 2.06.94-2.06 2.06-.94-2.06-.94-.94-2.06-.94 2.06-2.06.94zm-11 1L8.5 8.5l.94-2.06 2.06-.94-2.06-.94L8.5 2.5l-.94 2.06-2.06.94zm10 10l.94 2.06.94-2.06 2.06-.94-2.06-.94-.94-2.06-.94 2.06-2.06.94z\"/><path d=\"M17.41 7.96l-1.37-1.37c-.4-.4-.92-.59-1.43-.59-.52 0-1.04.2-1.43.59L10.3 9.45l-7.72 7.72c-.78.78-.78 2.05 0 2.83L4 21.41c.39.39.9.59 1.41.59.51 0 1.02-.2 1.41-.59l7.78-7.78 2.81-2.81c.8-.78.8-2.07 0-2.86zM5.41 20L4 18.59l7.72-7.72 1.47 1.35L5.41 20z\"/>\n",
              "  </svg>\n",
              "      </button>\n",
              "      \n",
              "  <style>\n",
              "    .colab-df-container {\n",
              "      display:flex;\n",
              "      flex-wrap:wrap;\n",
              "      gap: 12px;\n",
              "    }\n",
              "\n",
              "    .colab-df-convert {\n",
              "      background-color: #E8F0FE;\n",
              "      border: none;\n",
              "      border-radius: 50%;\n",
              "      cursor: pointer;\n",
              "      display: none;\n",
              "      fill: #1967D2;\n",
              "      height: 32px;\n",
              "      padding: 0 0 0 0;\n",
              "      width: 32px;\n",
              "    }\n",
              "\n",
              "    .colab-df-convert:hover {\n",
              "      background-color: #E2EBFA;\n",
              "      box-shadow: 0px 1px 2px rgba(60, 64, 67, 0.3), 0px 1px 3px 1px rgba(60, 64, 67, 0.15);\n",
              "      fill: #174EA6;\n",
              "    }\n",
              "\n",
              "    [theme=dark] .colab-df-convert {\n",
              "      background-color: #3B4455;\n",
              "      fill: #D2E3FC;\n",
              "    }\n",
              "\n",
              "    [theme=dark] .colab-df-convert:hover {\n",
              "      background-color: #434B5C;\n",
              "      box-shadow: 0px 1px 3px 1px rgba(0, 0, 0, 0.15);\n",
              "      filter: drop-shadow(0px 1px 2px rgba(0, 0, 0, 0.3));\n",
              "      fill: #FFFFFF;\n",
              "    }\n",
              "  </style>\n",
              "\n",
              "      <script>\n",
              "        const buttonEl =\n",
              "          document.querySelector('#df-a5597482-aa8f-4bad-8abc-df167705c8fd button.colab-df-convert');\n",
              "        buttonEl.style.display =\n",
              "          google.colab.kernel.accessAllowed ? 'block' : 'none';\n",
              "\n",
              "        async function convertToInteractive(key) {\n",
              "          const element = document.querySelector('#df-a5597482-aa8f-4bad-8abc-df167705c8fd');\n",
              "          const dataTable =\n",
              "            await google.colab.kernel.invokeFunction('convertToInteractive',\n",
              "                                                     [key], {});\n",
              "          if (!dataTable) return;\n",
              "\n",
              "          const docLinkHtml = 'Like what you see? Visit the ' +\n",
              "            '<a target=\"_blank\" href=https://colab.research.google.com/notebooks/data_table.ipynb>data table notebook</a>'\n",
              "            + ' to learn more about interactive tables.';\n",
              "          element.innerHTML = '';\n",
              "          dataTable['output_type'] = 'display_data';\n",
              "          await google.colab.output.renderOutput(dataTable, element);\n",
              "          const docLink = document.createElement('div');\n",
              "          docLink.innerHTML = docLinkHtml;\n",
              "          element.appendChild(docLink);\n",
              "        }\n",
              "      </script>\n",
              "    </div>\n",
              "  </div>\n",
              "  "
            ],
            "text/plain": [
              "   sub_category_0  sub_category_1  sub_category_2  sub_category_3  \\\n",
              "0               1               1               1               1   \n",
              "1               1               1               1               1   \n",
              "2               1               1               1               1   \n",
              "3               1               1               1               1   \n",
              "4               1               1               1               1   \n",
              "\n",
              "   sub_category_4  \n",
              "0               0  \n",
              "1               0  \n",
              "2               0  \n",
              "3               0  \n",
              "4               0  "
            ]
          },
          "execution_count": 33,
          "metadata": {},
          "output_type": "execute_result"
        }
      ],
      "source": [
        "prices = df['price'].str.replace('£|,','',regex=True)\n",
        "df['price'] = prices.str.split(' - ', expand=True).astype(float).mean(axis=1) #будем брать среднее арифметическое для значений типо \"£500 - £600\"\n",
        "\n",
        "df['number_available_in_stock'] =  df['number_available_in_stock'].str.split('\\xa0', n=1, expand=True).iloc[:, 0].astype(float)\n",
        "\n",
        "categories = df['amazon_category_and_sub_category'].str.split(' > ',expand=True) \n",
        "categories.columns = ['sub_category_' + str(i) for i in range(categories.shape[1])]\n",
        "for i in range(categories.shape[1]):\n",
        "  categories['sub_category_' + str(i)] = pd.factorize(categories['sub_category_' + str(i)])[0] + 1\n",
        "\n",
        "df = df.drop('amazon_category_and_sub_category', axis=1)\n",
        "df = pd.concat([df, categories], axis=1)\n",
        "categories.head()"
      ]
    },
    {
      "cell_type": "code",
      "execution_count": null,
      "metadata": {
        "id": "K0fmakxfPW-A"
      },
      "outputs": [],
      "source": [
        "df['number_of_reviews'] = source_df['number_of_reviews'].str.replace(',','') #ValueError: could not convert string to float: '1,040'\n",
        "df['number_of_reviews'] = df['number_of_reviews'].astype(float)\n",
        "\n",
        "onehot_encode = pd.get_dummies(df['manufacturer'])\n",
        "df = df.drop('manufacturer', axis = 1)\n",
        "df = df.join(onehot_encode)\n",
        "df['average_review_rating'] = df['average_review_rating'].str.split(' ', n=1, expand=True).iloc[:, 0].astype(float)\n"
      ]
    },
    {
      "cell_type": "code",
      "execution_count": null,
      "metadata": {
        "colab": {
          "base_uri": "https://localhost:8080/",
          "height": 539
        },
        "id": "5fItPoerb7cU",
        "outputId": "10cc4a68-bc26-45db-804e-37c0c17b6878"
      },
      "outputs": [
        {
          "data": {
            "text/html": [
              "\n",
              "  <div id=\"df-99de89e6-c5dc-4829-869a-55e3830003eb\">\n",
              "    <div class=\"colab-df-container\">\n",
              "      <div>\n",
              "<style scoped>\n",
              "    .dataframe tbody tr th:only-of-type {\n",
              "        vertical-align: middle;\n",
              "    }\n",
              "\n",
              "    .dataframe tbody tr th {\n",
              "        vertical-align: top;\n",
              "    }\n",
              "\n",
              "    .dataframe thead th {\n",
              "        text-align: right;\n",
              "    }\n",
              "</style>\n",
              "<table border=\"1\" class=\"dataframe\">\n",
              "  <thead>\n",
              "    <tr style=\"text-align: right;\">\n",
              "      <th></th>\n",
              "      <th>price</th>\n",
              "      <th>number_available_in_stock</th>\n",
              "      <th>number_of_reviews</th>\n",
              "      <th>number_of_answered_questions</th>\n",
              "      <th>average_review_rating</th>\n",
              "      <th>sub_category_0</th>\n",
              "      <th>sub_category_1</th>\n",
              "      <th>sub_category_2</th>\n",
              "      <th>sub_category_3</th>\n",
              "      <th>sub_category_4</th>\n",
              "      <th>...</th>\n",
              "      <th>ukgiftstoreonline</th>\n",
              "      <th>unbespielt</th>\n",
              "      <th>uni-ball</th>\n",
              "      <th>unisex party bag fillers</th>\n",
              "      <th>universal hobby</th>\n",
              "      <th>woooow doll</th>\n",
              "      <th>xs-party</th>\n",
              "      <th>yugioh</th>\n",
              "      <th>zizzi</th>\n",
              "      <th>|MFG</th>\n",
              "    </tr>\n",
              "  </thead>\n",
              "  <tbody>\n",
              "    <tr>\n",
              "      <th>0</th>\n",
              "      <td>3.42</td>\n",
              "      <td>5.0</td>\n",
              "      <td>15.0</td>\n",
              "      <td>1.0</td>\n",
              "      <td>4.9</td>\n",
              "      <td>1</td>\n",
              "      <td>1</td>\n",
              "      <td>1</td>\n",
              "      <td>1</td>\n",
              "      <td>0</td>\n",
              "      <td>...</td>\n",
              "      <td>0</td>\n",
              "      <td>0</td>\n",
              "      <td>0</td>\n",
              "      <td>0</td>\n",
              "      <td>0</td>\n",
              "      <td>0</td>\n",
              "      <td>0</td>\n",
              "      <td>0</td>\n",
              "      <td>0</td>\n",
              "      <td>0</td>\n",
              "    </tr>\n",
              "    <tr>\n",
              "      <th>1</th>\n",
              "      <td>9.99</td>\n",
              "      <td>2.0</td>\n",
              "      <td>17.0</td>\n",
              "      <td>2.0</td>\n",
              "      <td>3.9</td>\n",
              "      <td>1</td>\n",
              "      <td>1</td>\n",
              "      <td>1</td>\n",
              "      <td>1</td>\n",
              "      <td>0</td>\n",
              "      <td>...</td>\n",
              "      <td>0</td>\n",
              "      <td>0</td>\n",
              "      <td>0</td>\n",
              "      <td>0</td>\n",
              "      <td>0</td>\n",
              "      <td>0</td>\n",
              "      <td>0</td>\n",
              "      <td>0</td>\n",
              "      <td>0</td>\n",
              "      <td>0</td>\n",
              "    </tr>\n",
              "    <tr>\n",
              "      <th>2</th>\n",
              "      <td>69.93</td>\n",
              "      <td>3.0</td>\n",
              "      <td>36.0</td>\n",
              "      <td>7.0</td>\n",
              "      <td>4.3</td>\n",
              "      <td>1</td>\n",
              "      <td>1</td>\n",
              "      <td>1</td>\n",
              "      <td>1</td>\n",
              "      <td>0</td>\n",
              "      <td>...</td>\n",
              "      <td>0</td>\n",
              "      <td>0</td>\n",
              "      <td>0</td>\n",
              "      <td>0</td>\n",
              "      <td>0</td>\n",
              "      <td>0</td>\n",
              "      <td>0</td>\n",
              "      <td>0</td>\n",
              "      <td>0</td>\n",
              "      <td>0</td>\n",
              "    </tr>\n",
              "    <tr>\n",
              "      <th>3</th>\n",
              "      <td>235.58</td>\n",
              "      <td>4.0</td>\n",
              "      <td>1.0</td>\n",
              "      <td>1.0</td>\n",
              "      <td>5.0</td>\n",
              "      <td>1</td>\n",
              "      <td>1</td>\n",
              "      <td>1</td>\n",
              "      <td>1</td>\n",
              "      <td>0</td>\n",
              "      <td>...</td>\n",
              "      <td>0</td>\n",
              "      <td>0</td>\n",
              "      <td>0</td>\n",
              "      <td>0</td>\n",
              "      <td>0</td>\n",
              "      <td>0</td>\n",
              "      <td>0</td>\n",
              "      <td>0</td>\n",
              "      <td>0</td>\n",
              "      <td>0</td>\n",
              "    </tr>\n",
              "    <tr>\n",
              "      <th>4</th>\n",
              "      <td>27.49</td>\n",
              "      <td>6.0</td>\n",
              "      <td>1.0</td>\n",
              "      <td>1.0</td>\n",
              "      <td>5.0</td>\n",
              "      <td>1</td>\n",
              "      <td>1</td>\n",
              "      <td>1</td>\n",
              "      <td>3</td>\n",
              "      <td>0</td>\n",
              "      <td>...</td>\n",
              "      <td>0</td>\n",
              "      <td>0</td>\n",
              "      <td>0</td>\n",
              "      <td>0</td>\n",
              "      <td>0</td>\n",
              "      <td>0</td>\n",
              "      <td>0</td>\n",
              "      <td>0</td>\n",
              "      <td>0</td>\n",
              "      <td>0</td>\n",
              "    </tr>\n",
              "    <tr>\n",
              "      <th>...</th>\n",
              "      <td>...</td>\n",
              "      <td>...</td>\n",
              "      <td>...</td>\n",
              "      <td>...</td>\n",
              "      <td>...</td>\n",
              "      <td>...</td>\n",
              "      <td>...</td>\n",
              "      <td>...</td>\n",
              "      <td>...</td>\n",
              "      <td>...</td>\n",
              "      <td>...</td>\n",
              "      <td>...</td>\n",
              "      <td>...</td>\n",
              "      <td>...</td>\n",
              "      <td>...</td>\n",
              "      <td>...</td>\n",
              "      <td>...</td>\n",
              "      <td>...</td>\n",
              "      <td>...</td>\n",
              "      <td>...</td>\n",
              "      <td>...</td>\n",
              "    </tr>\n",
              "    <tr>\n",
              "      <th>5867</th>\n",
              "      <td>9.99</td>\n",
              "      <td>5.0</td>\n",
              "      <td>2.0</td>\n",
              "      <td>3.0</td>\n",
              "      <td>4.0</td>\n",
              "      <td>1</td>\n",
              "      <td>29</td>\n",
              "      <td>13</td>\n",
              "      <td>0</td>\n",
              "      <td>0</td>\n",
              "      <td>...</td>\n",
              "      <td>0</td>\n",
              "      <td>0</td>\n",
              "      <td>0</td>\n",
              "      <td>0</td>\n",
              "      <td>0</td>\n",
              "      <td>0</td>\n",
              "      <td>0</td>\n",
              "      <td>0</td>\n",
              "      <td>0</td>\n",
              "      <td>0</td>\n",
              "    </tr>\n",
              "    <tr>\n",
              "      <th>5868</th>\n",
              "      <td>22.95</td>\n",
              "      <td>5.0</td>\n",
              "      <td>3.0</td>\n",
              "      <td>3.0</td>\n",
              "      <td>5.0</td>\n",
              "      <td>1</td>\n",
              "      <td>29</td>\n",
              "      <td>13</td>\n",
              "      <td>0</td>\n",
              "      <td>0</td>\n",
              "      <td>...</td>\n",
              "      <td>0</td>\n",
              "      <td>0</td>\n",
              "      <td>0</td>\n",
              "      <td>0</td>\n",
              "      <td>0</td>\n",
              "      <td>0</td>\n",
              "      <td>0</td>\n",
              "      <td>0</td>\n",
              "      <td>0</td>\n",
              "      <td>0</td>\n",
              "    </tr>\n",
              "    <tr>\n",
              "      <th>5869</th>\n",
              "      <td>43.99</td>\n",
              "      <td>3.0</td>\n",
              "      <td>1.0</td>\n",
              "      <td>3.0</td>\n",
              "      <td>5.0</td>\n",
              "      <td>29</td>\n",
              "      <td>67</td>\n",
              "      <td>3</td>\n",
              "      <td>21</td>\n",
              "      <td>0</td>\n",
              "      <td>...</td>\n",
              "      <td>0</td>\n",
              "      <td>0</td>\n",
              "      <td>0</td>\n",
              "      <td>0</td>\n",
              "      <td>0</td>\n",
              "      <td>0</td>\n",
              "      <td>0</td>\n",
              "      <td>0</td>\n",
              "      <td>0</td>\n",
              "      <td>0</td>\n",
              "    </tr>\n",
              "    <tr>\n",
              "      <th>5870</th>\n",
              "      <td>49.81</td>\n",
              "      <td>3.0</td>\n",
              "      <td>1.0</td>\n",
              "      <td>3.0</td>\n",
              "      <td>5.0</td>\n",
              "      <td>1</td>\n",
              "      <td>29</td>\n",
              "      <td>13</td>\n",
              "      <td>0</td>\n",
              "      <td>0</td>\n",
              "      <td>...</td>\n",
              "      <td>0</td>\n",
              "      <td>0</td>\n",
              "      <td>0</td>\n",
              "      <td>0</td>\n",
              "      <td>0</td>\n",
              "      <td>0</td>\n",
              "      <td>0</td>\n",
              "      <td>0</td>\n",
              "      <td>0</td>\n",
              "      <td>0</td>\n",
              "    </tr>\n",
              "    <tr>\n",
              "      <th>5871</th>\n",
              "      <td>21.20</td>\n",
              "      <td>31.0</td>\n",
              "      <td>11.0</td>\n",
              "      <td>3.0</td>\n",
              "      <td>4.5</td>\n",
              "      <td>2</td>\n",
              "      <td>4</td>\n",
              "      <td>5</td>\n",
              "      <td>0</td>\n",
              "      <td>0</td>\n",
              "      <td>...</td>\n",
              "      <td>0</td>\n",
              "      <td>0</td>\n",
              "      <td>0</td>\n",
              "      <td>0</td>\n",
              "      <td>0</td>\n",
              "      <td>0</td>\n",
              "      <td>0</td>\n",
              "      <td>0</td>\n",
              "      <td>0</td>\n",
              "      <td>0</td>\n",
              "    </tr>\n",
              "  </tbody>\n",
              "</table>\n",
              "<p>5872 rows × 2661 columns</p>\n",
              "</div>\n",
              "      <button class=\"colab-df-convert\" onclick=\"convertToInteractive('df-99de89e6-c5dc-4829-869a-55e3830003eb')\"\n",
              "              title=\"Convert this dataframe to an interactive table.\"\n",
              "              style=\"display:none;\">\n",
              "        \n",
              "  <svg xmlns=\"http://www.w3.org/2000/svg\" height=\"24px\"viewBox=\"0 0 24 24\"\n",
              "       width=\"24px\">\n",
              "    <path d=\"M0 0h24v24H0V0z\" fill=\"none\"/>\n",
              "    <path d=\"M18.56 5.44l.94 2.06.94-2.06 2.06-.94-2.06-.94-.94-2.06-.94 2.06-2.06.94zm-11 1L8.5 8.5l.94-2.06 2.06-.94-2.06-.94L8.5 2.5l-.94 2.06-2.06.94zm10 10l.94 2.06.94-2.06 2.06-.94-2.06-.94-.94-2.06-.94 2.06-2.06.94z\"/><path d=\"M17.41 7.96l-1.37-1.37c-.4-.4-.92-.59-1.43-.59-.52 0-1.04.2-1.43.59L10.3 9.45l-7.72 7.72c-.78.78-.78 2.05 0 2.83L4 21.41c.39.39.9.59 1.41.59.51 0 1.02-.2 1.41-.59l7.78-7.78 2.81-2.81c.8-.78.8-2.07 0-2.86zM5.41 20L4 18.59l7.72-7.72 1.47 1.35L5.41 20z\"/>\n",
              "  </svg>\n",
              "      </button>\n",
              "      \n",
              "  <style>\n",
              "    .colab-df-container {\n",
              "      display:flex;\n",
              "      flex-wrap:wrap;\n",
              "      gap: 12px;\n",
              "    }\n",
              "\n",
              "    .colab-df-convert {\n",
              "      background-color: #E8F0FE;\n",
              "      border: none;\n",
              "      border-radius: 50%;\n",
              "      cursor: pointer;\n",
              "      display: none;\n",
              "      fill: #1967D2;\n",
              "      height: 32px;\n",
              "      padding: 0 0 0 0;\n",
              "      width: 32px;\n",
              "    }\n",
              "\n",
              "    .colab-df-convert:hover {\n",
              "      background-color: #E2EBFA;\n",
              "      box-shadow: 0px 1px 2px rgba(60, 64, 67, 0.3), 0px 1px 3px 1px rgba(60, 64, 67, 0.15);\n",
              "      fill: #174EA6;\n",
              "    }\n",
              "\n",
              "    [theme=dark] .colab-df-convert {\n",
              "      background-color: #3B4455;\n",
              "      fill: #D2E3FC;\n",
              "    }\n",
              "\n",
              "    [theme=dark] .colab-df-convert:hover {\n",
              "      background-color: #434B5C;\n",
              "      box-shadow: 0px 1px 3px 1px rgba(0, 0, 0, 0.15);\n",
              "      filter: drop-shadow(0px 1px 2px rgba(0, 0, 0, 0.3));\n",
              "      fill: #FFFFFF;\n",
              "    }\n",
              "  </style>\n",
              "\n",
              "      <script>\n",
              "        const buttonEl =\n",
              "          document.querySelector('#df-99de89e6-c5dc-4829-869a-55e3830003eb button.colab-df-convert');\n",
              "        buttonEl.style.display =\n",
              "          google.colab.kernel.accessAllowed ? 'block' : 'none';\n",
              "\n",
              "        async function convertToInteractive(key) {\n",
              "          const element = document.querySelector('#df-99de89e6-c5dc-4829-869a-55e3830003eb');\n",
              "          const dataTable =\n",
              "            await google.colab.kernel.invokeFunction('convertToInteractive',\n",
              "                                                     [key], {});\n",
              "          if (!dataTable) return;\n",
              "\n",
              "          const docLinkHtml = 'Like what you see? Visit the ' +\n",
              "            '<a target=\"_blank\" href=https://colab.research.google.com/notebooks/data_table.ipynb>data table notebook</a>'\n",
              "            + ' to learn more about interactive tables.';\n",
              "          element.innerHTML = '';\n",
              "          dataTable['output_type'] = 'display_data';\n",
              "          await google.colab.output.renderOutput(dataTable, element);\n",
              "          const docLink = document.createElement('div');\n",
              "          docLink.innerHTML = docLinkHtml;\n",
              "          element.appendChild(docLink);\n",
              "        }\n",
              "      </script>\n",
              "    </div>\n",
              "  </div>\n",
              "  "
            ],
            "text/plain": [
              "       price  number_available_in_stock  number_of_reviews  \\\n",
              "0       3.42                        5.0               15.0   \n",
              "1       9.99                        2.0               17.0   \n",
              "2      69.93                        3.0               36.0   \n",
              "3     235.58                        4.0                1.0   \n",
              "4      27.49                        6.0                1.0   \n",
              "...      ...                        ...                ...   \n",
              "5867    9.99                        5.0                2.0   \n",
              "5868   22.95                        5.0                3.0   \n",
              "5869   43.99                        3.0                1.0   \n",
              "5870   49.81                        3.0                1.0   \n",
              "5871   21.20                       31.0               11.0   \n",
              "\n",
              "      number_of_answered_questions  average_review_rating  sub_category_0  \\\n",
              "0                              1.0                    4.9               1   \n",
              "1                              2.0                    3.9               1   \n",
              "2                              7.0                    4.3               1   \n",
              "3                              1.0                    5.0               1   \n",
              "4                              1.0                    5.0               1   \n",
              "...                            ...                    ...             ...   \n",
              "5867                           3.0                    4.0               1   \n",
              "5868                           3.0                    5.0               1   \n",
              "5869                           3.0                    5.0              29   \n",
              "5870                           3.0                    5.0               1   \n",
              "5871                           3.0                    4.5               2   \n",
              "\n",
              "      sub_category_1  sub_category_2  sub_category_3  sub_category_4  ...  \\\n",
              "0                  1               1               1               0  ...   \n",
              "1                  1               1               1               0  ...   \n",
              "2                  1               1               1               0  ...   \n",
              "3                  1               1               1               0  ...   \n",
              "4                  1               1               3               0  ...   \n",
              "...              ...             ...             ...             ...  ...   \n",
              "5867              29              13               0               0  ...   \n",
              "5868              29              13               0               0  ...   \n",
              "5869              67               3              21               0  ...   \n",
              "5870              29              13               0               0  ...   \n",
              "5871               4               5               0               0  ...   \n",
              "\n",
              "      ukgiftstoreonline  unbespielt  uni-ball  unisex party bag fillers  \\\n",
              "0                     0           0         0                         0   \n",
              "1                     0           0         0                         0   \n",
              "2                     0           0         0                         0   \n",
              "3                     0           0         0                         0   \n",
              "4                     0           0         0                         0   \n",
              "...                 ...         ...       ...                       ...   \n",
              "5867                  0           0         0                         0   \n",
              "5868                  0           0         0                         0   \n",
              "5869                  0           0         0                         0   \n",
              "5870                  0           0         0                         0   \n",
              "5871                  0           0         0                         0   \n",
              "\n",
              "      universal hobby  woooow doll  xs-party  yugioh  zizzi  |MFG  \n",
              "0                   0            0         0       0      0     0  \n",
              "1                   0            0         0       0      0     0  \n",
              "2                   0            0         0       0      0     0  \n",
              "3                   0            0         0       0      0     0  \n",
              "4                   0            0         0       0      0     0  \n",
              "...               ...          ...       ...     ...    ...   ...  \n",
              "5867                0            0         0       0      0     0  \n",
              "5868                0            0         0       0      0     0  \n",
              "5869                0            0         0       0      0     0  \n",
              "5870                0            0         0       0      0     0  \n",
              "5871                0            0         0       0      0     0  \n",
              "\n",
              "[5872 rows x 2661 columns]"
            ]
          },
          "execution_count": 35,
          "metadata": {},
          "output_type": "execute_result"
        }
      ],
      "source": [
        "df = df.dropna() #удалим неполные данные\n",
        "df = df.reset_index()\n",
        "df = df.drop(columns=['index'])\n",
        "df"
      ]
    },
    {
      "attachments": {},
      "cell_type": "markdown",
      "metadata": {
        "id": "yfF1ck3Lbl5b"
      },
      "source": [
        "Для наглядности сравним с исходной таблицей"
      ]
    },
    {
      "cell_type": "code",
      "execution_count": null,
      "metadata": {
        "colab": {
          "base_uri": "https://localhost:8080/",
          "height": 423
        },
        "id": "9zF36zsgbt4G",
        "outputId": "62ba95ac-76c9-4752-b4fd-40cd4718e3ab"
      },
      "outputs": [
        {
          "data": {
            "text/html": [
              "\n",
              "  <div id=\"df-799ead66-c0ac-4ca7-b563-bb67a410882f\">\n",
              "    <div class=\"colab-df-container\">\n",
              "      <div>\n",
              "<style scoped>\n",
              "    .dataframe tbody tr th:only-of-type {\n",
              "        vertical-align: middle;\n",
              "    }\n",
              "\n",
              "    .dataframe tbody tr th {\n",
              "        vertical-align: top;\n",
              "    }\n",
              "\n",
              "    .dataframe thead th {\n",
              "        text-align: right;\n",
              "    }\n",
              "</style>\n",
              "<table border=\"1\" class=\"dataframe\">\n",
              "  <thead>\n",
              "    <tr style=\"text-align: right;\">\n",
              "      <th></th>\n",
              "      <th>manufacturer</th>\n",
              "      <th>price</th>\n",
              "      <th>number_available_in_stock</th>\n",
              "      <th>number_of_reviews</th>\n",
              "      <th>number_of_answered_questions</th>\n",
              "      <th>average_review_rating</th>\n",
              "      <th>amazon_category_and_sub_category</th>\n",
              "    </tr>\n",
              "  </thead>\n",
              "  <tbody>\n",
              "    <tr>\n",
              "      <th>0</th>\n",
              "      <td>Hornby</td>\n",
              "      <td>£3.42</td>\n",
              "      <td>5 new</td>\n",
              "      <td>15</td>\n",
              "      <td>1.0</td>\n",
              "      <td>4.9 out of 5 stars</td>\n",
              "      <td>Hobbies &gt; Model Trains &amp; Railway Sets &gt; Rail V...</td>\n",
              "    </tr>\n",
              "    <tr>\n",
              "      <th>1</th>\n",
              "      <td>FunkyBuys</td>\n",
              "      <td>£16.99</td>\n",
              "      <td>NaN</td>\n",
              "      <td>2</td>\n",
              "      <td>1.0</td>\n",
              "      <td>4.5 out of 5 stars</td>\n",
              "      <td>Hobbies &gt; Model Trains &amp; Railway Sets &gt; Rail V...</td>\n",
              "    </tr>\n",
              "    <tr>\n",
              "      <th>2</th>\n",
              "      <td>ccf</td>\n",
              "      <td>£9.99</td>\n",
              "      <td>2 new</td>\n",
              "      <td>17</td>\n",
              "      <td>2.0</td>\n",
              "      <td>3.9 out of 5 stars</td>\n",
              "      <td>Hobbies &gt; Model Trains &amp; Railway Sets &gt; Rail V...</td>\n",
              "    </tr>\n",
              "    <tr>\n",
              "      <th>3</th>\n",
              "      <td>Hornby</td>\n",
              "      <td>£39.99</td>\n",
              "      <td>NaN</td>\n",
              "      <td>1</td>\n",
              "      <td>2.0</td>\n",
              "      <td>5.0 out of 5 stars</td>\n",
              "      <td>Hobbies &gt; Model Trains &amp; Railway Sets &gt; Rail V...</td>\n",
              "    </tr>\n",
              "    <tr>\n",
              "      <th>4</th>\n",
              "      <td>Hornby</td>\n",
              "      <td>£32.19</td>\n",
              "      <td>NaN</td>\n",
              "      <td>3</td>\n",
              "      <td>2.0</td>\n",
              "      <td>4.7 out of 5 stars</td>\n",
              "      <td>Hobbies &gt; Model Trains &amp; Railway Sets &gt; Rail V...</td>\n",
              "    </tr>\n",
              "    <tr>\n",
              "      <th>...</th>\n",
              "      <td>...</td>\n",
              "      <td>...</td>\n",
              "      <td>...</td>\n",
              "      <td>...</td>\n",
              "      <td>...</td>\n",
              "      <td>...</td>\n",
              "      <td>...</td>\n",
              "    </tr>\n",
              "    <tr>\n",
              "      <th>9995</th>\n",
              "      <td>Mattel</td>\n",
              "      <td>£22.95</td>\n",
              "      <td>5 new</td>\n",
              "      <td>3</td>\n",
              "      <td>3.0</td>\n",
              "      <td>5.0 out of 5 stars</td>\n",
              "      <td>Hobbies &gt; Collectible Figures &amp; Memorabilia &gt; ...</td>\n",
              "    </tr>\n",
              "    <tr>\n",
              "      <th>9996</th>\n",
              "      <td>Star Wars</td>\n",
              "      <td>£39.99</td>\n",
              "      <td>NaN</td>\n",
              "      <td>1</td>\n",
              "      <td>3.0</td>\n",
              "      <td>4.0 out of 5 stars</td>\n",
              "      <td>Characters &amp; Brands &gt; Star Wars &gt; Toys</td>\n",
              "    </tr>\n",
              "    <tr>\n",
              "      <th>9997</th>\n",
              "      <td>Olde Scotland Yard Ltd.</td>\n",
              "      <td>£43.99</td>\n",
              "      <td>3 new</td>\n",
              "      <td>1</td>\n",
              "      <td>3.0</td>\n",
              "      <td>5.0 out of 5 stars</td>\n",
              "      <td>Novelty &amp; Special Use &gt; Novelty &gt; Accessories ...</td>\n",
              "    </tr>\n",
              "    <tr>\n",
              "      <th>9998</th>\n",
              "      <td>DC Comics</td>\n",
              "      <td>£49.81</td>\n",
              "      <td>3 new</td>\n",
              "      <td>1</td>\n",
              "      <td>3.0</td>\n",
              "      <td>5.0 out of 5 stars</td>\n",
              "      <td>Hobbies &gt; Collectible Figures &amp; Memorabilia &gt; ...</td>\n",
              "    </tr>\n",
              "    <tr>\n",
              "      <th>9999</th>\n",
              "      <td>Bandai</td>\n",
              "      <td>£21.20</td>\n",
              "      <td>31 new</td>\n",
              "      <td>11</td>\n",
              "      <td>3.0</td>\n",
              "      <td>4.5 out of 5 stars</td>\n",
              "      <td>Characters &amp; Brands &gt; Star Wars &gt; Toys</td>\n",
              "    </tr>\n",
              "  </tbody>\n",
              "</table>\n",
              "<p>10000 rows × 7 columns</p>\n",
              "</div>\n",
              "      <button class=\"colab-df-convert\" onclick=\"convertToInteractive('df-799ead66-c0ac-4ca7-b563-bb67a410882f')\"\n",
              "              title=\"Convert this dataframe to an interactive table.\"\n",
              "              style=\"display:none;\">\n",
              "        \n",
              "  <svg xmlns=\"http://www.w3.org/2000/svg\" height=\"24px\"viewBox=\"0 0 24 24\"\n",
              "       width=\"24px\">\n",
              "    <path d=\"M0 0h24v24H0V0z\" fill=\"none\"/>\n",
              "    <path d=\"M18.56 5.44l.94 2.06.94-2.06 2.06-.94-2.06-.94-.94-2.06-.94 2.06-2.06.94zm-11 1L8.5 8.5l.94-2.06 2.06-.94-2.06-.94L8.5 2.5l-.94 2.06-2.06.94zm10 10l.94 2.06.94-2.06 2.06-.94-2.06-.94-.94-2.06-.94 2.06-2.06.94z\"/><path d=\"M17.41 7.96l-1.37-1.37c-.4-.4-.92-.59-1.43-.59-.52 0-1.04.2-1.43.59L10.3 9.45l-7.72 7.72c-.78.78-.78 2.05 0 2.83L4 21.41c.39.39.9.59 1.41.59.51 0 1.02-.2 1.41-.59l7.78-7.78 2.81-2.81c.8-.78.8-2.07 0-2.86zM5.41 20L4 18.59l7.72-7.72 1.47 1.35L5.41 20z\"/>\n",
              "  </svg>\n",
              "      </button>\n",
              "      \n",
              "  <style>\n",
              "    .colab-df-container {\n",
              "      display:flex;\n",
              "      flex-wrap:wrap;\n",
              "      gap: 12px;\n",
              "    }\n",
              "\n",
              "    .colab-df-convert {\n",
              "      background-color: #E8F0FE;\n",
              "      border: none;\n",
              "      border-radius: 50%;\n",
              "      cursor: pointer;\n",
              "      display: none;\n",
              "      fill: #1967D2;\n",
              "      height: 32px;\n",
              "      padding: 0 0 0 0;\n",
              "      width: 32px;\n",
              "    }\n",
              "\n",
              "    .colab-df-convert:hover {\n",
              "      background-color: #E2EBFA;\n",
              "      box-shadow: 0px 1px 2px rgba(60, 64, 67, 0.3), 0px 1px 3px 1px rgba(60, 64, 67, 0.15);\n",
              "      fill: #174EA6;\n",
              "    }\n",
              "\n",
              "    [theme=dark] .colab-df-convert {\n",
              "      background-color: #3B4455;\n",
              "      fill: #D2E3FC;\n",
              "    }\n",
              "\n",
              "    [theme=dark] .colab-df-convert:hover {\n",
              "      background-color: #434B5C;\n",
              "      box-shadow: 0px 1px 3px 1px rgba(0, 0, 0, 0.15);\n",
              "      filter: drop-shadow(0px 1px 2px rgba(0, 0, 0, 0.3));\n",
              "      fill: #FFFFFF;\n",
              "    }\n",
              "  </style>\n",
              "\n",
              "      <script>\n",
              "        const buttonEl =\n",
              "          document.querySelector('#df-799ead66-c0ac-4ca7-b563-bb67a410882f button.colab-df-convert');\n",
              "        buttonEl.style.display =\n",
              "          google.colab.kernel.accessAllowed ? 'block' : 'none';\n",
              "\n",
              "        async function convertToInteractive(key) {\n",
              "          const element = document.querySelector('#df-799ead66-c0ac-4ca7-b563-bb67a410882f');\n",
              "          const dataTable =\n",
              "            await google.colab.kernel.invokeFunction('convertToInteractive',\n",
              "                                                     [key], {});\n",
              "          if (!dataTable) return;\n",
              "\n",
              "          const docLinkHtml = 'Like what you see? Visit the ' +\n",
              "            '<a target=\"_blank\" href=https://colab.research.google.com/notebooks/data_table.ipynb>data table notebook</a>'\n",
              "            + ' to learn more about interactive tables.';\n",
              "          element.innerHTML = '';\n",
              "          dataTable['output_type'] = 'display_data';\n",
              "          await google.colab.output.renderOutput(dataTable, element);\n",
              "          const docLink = document.createElement('div');\n",
              "          docLink.innerHTML = docLinkHtml;\n",
              "          element.appendChild(docLink);\n",
              "        }\n",
              "      </script>\n",
              "    </div>\n",
              "  </div>\n",
              "  "
            ],
            "text/plain": [
              "                 manufacturer   price number_available_in_stock  \\\n",
              "0                      Hornby   £3.42                     5 new   \n",
              "1                   FunkyBuys  £16.99                       NaN   \n",
              "2                         ccf   £9.99                     2 new   \n",
              "3                      Hornby  £39.99                       NaN   \n",
              "4                      Hornby  £32.19                       NaN   \n",
              "...                       ...     ...                       ...   \n",
              "9995                   Mattel  £22.95                     5 new   \n",
              "9996                Star Wars  £39.99                       NaN   \n",
              "9997  Olde Scotland Yard Ltd.  £43.99                     3 new   \n",
              "9998                DC Comics  £49.81                     3 new   \n",
              "9999                   Bandai  £21.20                    31 new   \n",
              "\n",
              "     number_of_reviews  number_of_answered_questions average_review_rating  \\\n",
              "0                   15                           1.0    4.9 out of 5 stars   \n",
              "1                    2                           1.0    4.5 out of 5 stars   \n",
              "2                   17                           2.0    3.9 out of 5 stars   \n",
              "3                    1                           2.0    5.0 out of 5 stars   \n",
              "4                    3                           2.0    4.7 out of 5 stars   \n",
              "...                ...                           ...                   ...   \n",
              "9995                 3                           3.0    5.0 out of 5 stars   \n",
              "9996                 1                           3.0    4.0 out of 5 stars   \n",
              "9997                 1                           3.0    5.0 out of 5 stars   \n",
              "9998                 1                           3.0    5.0 out of 5 stars   \n",
              "9999                11                           3.0    4.5 out of 5 stars   \n",
              "\n",
              "                       amazon_category_and_sub_category  \n",
              "0     Hobbies > Model Trains & Railway Sets > Rail V...  \n",
              "1     Hobbies > Model Trains & Railway Sets > Rail V...  \n",
              "2     Hobbies > Model Trains & Railway Sets > Rail V...  \n",
              "3     Hobbies > Model Trains & Railway Sets > Rail V...  \n",
              "4     Hobbies > Model Trains & Railway Sets > Rail V...  \n",
              "...                                                 ...  \n",
              "9995  Hobbies > Collectible Figures & Memorabilia > ...  \n",
              "9996             Characters & Brands > Star Wars > Toys  \n",
              "9997  Novelty & Special Use > Novelty > Accessories ...  \n",
              "9998  Hobbies > Collectible Figures & Memorabilia > ...  \n",
              "9999             Characters & Brands > Star Wars > Toys  \n",
              "\n",
              "[10000 rows x 7 columns]"
            ]
          },
          "execution_count": 36,
          "metadata": {},
          "output_type": "execute_result"
        }
      ],
      "source": [
        "source_df"
      ]
    },
    {
      "attachments": {},
      "cell_type": "markdown",
      "metadata": {
        "id": "JTRoUwANEcn9"
      },
      "source": [
        "# Обучение модели (3 балла)"
      ]
    },
    {
      "cell_type": "code",
      "execution_count": null,
      "metadata": {
        "id": "OVUEE5ZKg2XZ"
      },
      "outputs": [],
      "source": [
        "from sklearn.model_selection import train_test_split\n",
        "y = df['price']\n",
        "X = df.drop('price', axis=1)\n",
        "X_train, X_test, y_train, y_test = train_test_split(X, y, train_size=0.45, random_state=43) # а вот возьму и не поставлю 42, что ты мне сделаешь??????"
      ]
    },
    {
      "attachments": {},
      "cell_type": "markdown",
      "metadata": {
        "id": "AyVaKKT7FFo5"
      },
      "source": [
        "## Бейзлайн\n",
        "\n",
        "Обучите базовую модель. Для этого используйте `sklearn.dummy.DummyRegressor`. Какое качество она показывает на тесте? Посчитайте MSE, RMSE."
      ]
    },
    {
      "cell_type": "code",
      "execution_count": null,
      "metadata": {
        "colab": {
          "base_uri": "https://localhost:8080/"
        },
        "id": "RyP0nfMOgu89",
        "outputId": "754c3c35-0c89-494c-b1e2-ad9644e5b082"
      },
      "outputs": [
        {
          "name": "stdout",
          "output_type": "stream",
          "text": [
            "2817.7335370019505\n",
            "53.082327916190245\n"
          ]
        },
        {
          "data": {
            "text/plain": [
              "-6.745040142797087e-05"
            ]
          },
          "execution_count": 38,
          "metadata": {},
          "output_type": "execute_result"
        }
      ],
      "source": [
        "from sklearn.dummy import DummyRegressor\n",
        "from sklearn.metrics import mean_squared_error\n",
        "from sklearn.metrics import r2_score\n",
        "\n",
        "\n",
        "dummy_regressor = DummyRegressor(strategy=\"mean\")\n",
        "dummy_regressor = dummy_regressor.fit(X_train, y_train)\n",
        "y_pred = dummy_regressor.predict(X_test)\n",
        "MSE = mean_squared_error(y_test, y_pred)\n",
        "RMSE = np.sqrt(MSE)\n",
        "r2 = r2_score(y_test, y_pred)\n",
        "print(MSE)\n",
        "print(RMSE)\n",
        "r2"
      ]
    },
    {
      "attachments": {},
      "cell_type": "markdown",
      "metadata": {
        "id": "rVW-MtPgF_vE"
      },
      "source": [
        "## Дерево решений\n",
        "\n",
        "Обучите регрессионное дерево решений, проверьте качество этой модели на тестовой выборке. Улучшилось ли качество по сравнению с базовой моделью? Оцените r2_score обученной модели."
      ]
    },
    {
      "cell_type": "code",
      "execution_count": null,
      "metadata": {
        "colab": {
          "base_uri": "https://localhost:8080/"
        },
        "id": "eOuR0C-TrU0B",
        "outputId": "9d12ea71-dd7f-4cf0-db87-5f8b800633db"
      },
      "outputs": [
        {
          "data": {
            "text/plain": [
              "-0.045763891036680215"
            ]
          },
          "execution_count": 39,
          "metadata": {},
          "output_type": "execute_result"
        }
      ],
      "source": [
        "from sklearn.tree import DecisionTreeRegressor\n",
        "\n",
        "dt_regressor = DecisionTreeRegressor()\n",
        "dt_regressor = dt_regressor.fit(X_train, y_train)\n",
        "y_pred = dt_regressor.predict(X_test)\n",
        "r2 = r2_score(y_test, y_pred)\n",
        "\n",
        "r2"
      ]
    },
    {
      "attachments": {},
      "cell_type": "markdown",
      "metadata": {
        "id": "viVY_kUMG7Jv"
      },
      "source": [
        "## Линейная регрессия\n",
        "\n",
        "Попробуйте обучить линейную регрессию с параметрами по умолчанию. Оцените r2_score на тестовой выборке. Сравните качество с деревом решений. "
      ]
    },
    {
      "cell_type": "code",
      "execution_count": null,
      "metadata": {
        "colab": {
          "base_uri": "https://localhost:8080/"
        },
        "id": "LbY0dNC0rzV3",
        "outputId": "5508a4bf-15f0-495d-c297-d516b84d2be2"
      },
      "outputs": [
        {
          "data": {
            "text/plain": [
              "-5.918021042270295e+17"
            ]
          },
          "execution_count": 40,
          "metadata": {},
          "output_type": "execute_result"
        }
      ],
      "source": [
        "from sklearn.linear_model import LinearRegression\n",
        "\n",
        "lin_regressor = LinearRegression()\n",
        "lin_regressor = lin_regressor.fit(X_train, y_train)\n",
        "y_pred = lin_regressor.predict(X_test)\n",
        "r2 = r2_score(y_test, y_pred)\n",
        "\n",
        "r2"
      ]
    },
    {
      "attachments": {},
      "cell_type": "markdown",
      "metadata": {
        "id": "gZP-A2lHxMXt"
      },
      "source": [
        "хрена с два мне, а не положительный $R^2$\n",
        "\n"
      ]
    },
    {
      "attachments": {},
      "cell_type": "markdown",
      "metadata": {
        "id": "3J71riX2Guj3"
      },
      "source": [
        "# Гиперпараметры (2 балла)\n",
        "\n",
        "Переберите несколько гиперпараметров (не более двух-трёх). Обратите внимание, как эти параметры влияют на ошибку модели на тестовой выборке. Постройте для глубины дерева график переобучения (fitting curve) аналогичный тому, что мы строили на занятии. Найдите глубину дерева, начиная с которой модель начинает переобучаться."
      ]
    },
    {
      "cell_type": "code",
      "execution_count": null,
      "metadata": {
        "colab": {
          "base_uri": "https://localhost:8080/",
          "height": 489
        },
        "id": "jDzAPGrGsKyi",
        "outputId": "2a01c878-5452-4787-fa7b-d4dbe630dd0e"
      },
      "outputs": [
        {
          "name": "stderr",
          "output_type": "stream",
          "text": [
            "100%|██████████| 34/34 [00:12<00:00,  2.65it/s]\n"
          ]
        },
        {
          "data": {
            "image/png": "[encoded data removed]",
            "text/plain": [
              "<Figure size 640x480 with 1 Axes>"
            ]
          },
          "metadata": {},
          "output_type": "display_data"
        }
      ],
      "source": [
        "import seaborn as sns\n",
        "from tqdm import tqdm\n",
        "\n",
        "def fit_curve_plot(\n",
        "    model_ctor, mc_parameter: str, values: list, score, X_train, X_test, y_train, y_test\n",
        "):\n",
        "  train_curve = []\n",
        "  test_curve = []\n",
        "  for value in tqdm(values):\n",
        "        model = model_ctor(**{mc_parameter: value}) \n",
        "        model.fit(X_train, y_train)\n",
        "        y_pred_train, y_pred_test = model.predict(X_train), model.predict(X_test)\n",
        "        train_curve.append(score(y_train, y_pred_train))\n",
        "        test_curve.append(score(y_test, y_pred_test))\n",
        "  train_curve = pd.DataFrame(train_curve, index=values, columns=['r2_score'])\n",
        "  test_curve = pd.DataFrame(test_curve, index=values, columns=['r2_score'])\n",
        "  data_test = pd.concat([train_curve, test_curve], axis=0, keys=['train', 'test']).reset_index()\n",
        "  data_test = data_test.rename(columns={'level_0': 'Lines', 'level_1': 'values'})\n",
        "  sns.lineplot(data=data_test, x='values', y='r2_score', hue='Lines', palette=['r', 'g'], linewidth=2.5).set(title='Fitting curve')\n",
        "\n",
        "fit_curve_plot(DecisionTreeRegressor, 'max_depth', np.arange(1, 35), r2_score, X_train, X_test, y_train, y_test)"
      ]
    },
    {
      "attachments": {},
      "cell_type": "markdown",
      "metadata": {
        "id": "ah2k9ysMB61o"
      },
      "source": [
        "Реально, хрен мне, а не положительный $R^2$"
      ]
    },
    {
      "cell_type": "code",
      "execution_count": null,
      "metadata": {
        "colab": {
          "base_uri": "https://localhost:8080/",
          "height": 489
        },
        "id": "xbzauHSu_5dc",
        "outputId": "461be96b-1ae6-42a9-a0ef-8d9df1a43c80"
      },
      "outputs": [
        {
          "name": "stderr",
          "output_type": "stream",
          "text": [
            "100%|██████████| 22/22 [00:13<00:00,  1.58it/s]\n"
          ]
        },
        {
          "data": {
            "image/png": "[encoded data removed]",
            "text/plain": [
              "<Figure size 640x480 with 1 Axes>"
            ]
          },
          "metadata": {},
          "output_type": "display_data"
        }
      ],
      "source": [
        "fit_curve_plot(DecisionTreeRegressor, 'random_state', np.arange(1, 45, 2), r2_score, X_train, X_test, y_train, y_test) #чтобы мне поделать лишь бы не выбрать 42б хе-хе"
      ]
    },
    {
      "attachments": {},
      "cell_type": "markdown",
      "metadata": {
        "id": "rJlf6gJ9RBhf"
      },
      "source": [
        "# Простое ансамблирование (1 балл)\n",
        "\n",
        "В этой секции мы реализуем простой ансамбль деревьев."
      ]
    },
    {
      "cell_type": "code",
      "execution_count": null,
      "metadata": {
        "id": "Ht7wq9TqUfvZ"
      },
      "outputs": [],
      "source": [
        "class EnsembleTreeRegressor:\n",
        "    def __init__(self, num_trees=5, samples_frac=0.8, **model_kwargs):\n",
        "        self.num_trees= num_trees\n",
        "        self._samples_frac = 0.8\n",
        "        self._trees = [DecisionTreeRegressor(**model_kwargs) for _ in range(num_trees)]\n",
        "    def fit(self, x, y: pd.Series):\n",
        "        x = pd.DataFrame(x)\n",
        "        #  y = y.reset_index(drop=True) ХЗ ПАЧЕМУ, НО ОНО ВСё ЛОМАЛО\n",
        "        for tree in self._trees:\n",
        "            tree_x = x.sample(frac=self._samples_frac, random_state=43) #никакого 42!!!\n",
        "            tree_y = y[tree_x.index]\n",
        "            tree.fit(tree_x, tree_y)\n",
        "        return self\n",
        "\n",
        "    def predict(self, x: pd.DataFrame):\n",
        "        x = pd.DataFrame(x)\n",
        "        res = []\n",
        "        for i in range(self.num_trees):\n",
        "          res.append(self._trees[i].predict(x))\n",
        "        return sum(res) / len(res)"
      ]
    },
    {
      "attachments": {},
      "cell_type": "markdown",
      "metadata": {
        "id": "FCxogZPuVZCF"
      },
      "source": [
        "Проверьте, работает ли этот ансамбль лучше обычного дерева с параметрами по умолчанию? \n",
        "\n",
        "Что-то он вообще не работает. Плак-плак(((((\n",
        "\n",
        "```\n",
        "KeyError                                  Traceback (most recent call last)\n",
        "<ipython-input-105-fb3770aec7dd> in <cell line: 2>()\n",
        "      1 ens_regressor = EnsembleTreeRegressor()\n",
        "----> 2 ens_regressor = ens_regressor.fit(X_train, y_train)\n",
        "      3 y_pred = ens_regressor.predict(X_test)\n",
        "      4 r2 = r2_score(y_test, y_pred)\n",
        "      5 r2\n",
        "\n",
        "8 frames\n",
        "/usr/local/lib/python3.10/dist-packages/pandas/core/indexes/base.py in _raise_if_missing(self, key, indexer, axis_name)\n",
        "   6131 \n",
        "   6132             not_found = list(ensure_index(key)[missing_mask.nonzero()[0]].unique())\n",
        "-> 6133             raise KeyError(f\"{not_found} not in index\")\n",
        "   6134 \n",
        "   6135     @overload\n",
        "\n",
        "KeyError: '[5694, 8095, 3929, 9303, 5406, 4895, 4783, 8508, 7995, 6610, 8363, 8255, 9187, 3678, 3915, 9555, 5103, 9262, 8906, 5650, 4142, 7269, 4382, 5050, 5108, 4118, 5530, 9532, 5568, 7328, 7702, 5335, 9849, 7485, 6286, 3870, 6055, 6616, 7847, 7894, 8030, 4587, 4967, 6752, 6719, 9285, 7181, 5586, 8596, 7870, 7692, 8219, 4965, 7904, 4998, 5535, 8701, 4834, 6669, 6454, 4424, 4538, 7902, 9422, 8544, 9462, 6810, 9991, 6317, 7930, 5082, 9658, 7280, 6791, 5053, 7240, 4812, 6703, 6148, 6483, 6624, 8848, 8819, 5539, 7444, 4677, 6546, 3970, 9360, 5909, 9937, 8673, 5638, 6813, 4721, 7950, 4081, 9211, 9348, 4810, 5065, 5052, 8337, 9092, 5742, 6026, 9739, 4208, 5894, 7004, 5151, 7844, 7386, 7633, 7066, 5648, 3866, 7923, 5911, 4469, 4242, 5686, 5744, 3811, 4930, 5763, 4937, 3908, 9669, 4613, 8874, 4885, 5692, 5006, 6189, 7588, 5341, 9810, 7776, 5557, 7470, 6730, 6042, 8081, 9421, 4308, 7248, 8751, 5497, 4507, 6552, 9128, 4902, 6239, 4817, 9945, 5288, 4078, 9518, 6957, 4334, 5386, 6874, 9168, 5084, 9124, 5217, 7958, 9096, 5187, 4253, 7850, 7802, 8949, 7060, 7143, 8500, 6964, 4087, 7405, 5373, 9174, 4065, 5702, 6608, 8468, 7852, 6688, 3950, 9461, 7784, 9827, 3944, 8572, 6431, 8892, 4195, 6718, 9488, 5600, 4647, 5861, 8965, 6502, 6737, 7714, 5413, 7474, 6795, 5587, 8894, 5760, 6187, 6341, 8756, 6847, 8752, 6952, 7194, 3681, 7945, 5833, 9665, 8909, 6661, 5015, 5576, 4611, 8838, 5107, 9650, 9865, 7410, 7552, 3596, 4718, 7725, 3713, 5486, 6653, 7144, 6739, 8101, 4923, 3971, 6351...\n",
        "```\n",
        "\n",
        "Дополнительно переберите максимальную глубину дерева. Проверьте, насколько отличается момент начала переобучения у одиночного дерева и у ансамбля. Зависит ли этот момент от числа деревьев (`num_trees`)? От числа примеров для каждого дерева (`samples_frac`)? Постройте график fitting curve."
      ]
    },
    {
      "attachments": {},
      "cell_type": "markdown",
      "metadata": {
        "id": "YkTQmBg3IsdM"
      },
      "source": [
        "А, не, починил\n"
      ]
    },
    {
      "cell_type": "code",
      "execution_count": null,
      "metadata": {
        "colab": {
          "base_uri": "https://localhost:8080/"
        },
        "id": "5glxwE33JQ21",
        "outputId": "f7e679bc-cdc8-49d0-bb05-44e7933189a3"
      },
      "outputs": [
        {
          "data": {
            "text/plain": [
              "-0.04854705406067761"
            ]
          },
          "execution_count": 44,
          "metadata": {},
          "output_type": "execute_result"
        }
      ],
      "source": [
        "ens_regressor = EnsembleTreeRegressor()\n",
        "ens_regressor = ens_regressor.fit(X_train, y_train)\n",
        "y_pred = ens_regressor.predict(X_test)\n",
        "r2 = r2_score(y_test, y_pred)\n",
        "\n",
        "r2"
      ]
    },
    {
      "cell_type": "code",
      "execution_count": null,
      "metadata": {
        "colab": {
          "base_uri": "https://localhost:8080/",
          "height": 489
        },
        "id": "4Ta4BwgUCIiF",
        "outputId": "4a9e9923-c0eb-4133-fecb-f8f036418b31"
      },
      "outputs": [
        {
          "name": "stderr",
          "output_type": "stream",
          "text": [
            "100%|██████████| 14/14 [00:58<00:00,  4.21s/it]\n"
          ]
        },
        {
          "data": {
            "image/png": "[encoded data removed]",
            "text/plain": [
              "<Figure size 640x480 with 1 Axes>"
            ]
          },
          "metadata": {},
          "output_type": "display_data"
        }
      ],
      "source": [
        "fit_curve_plot(EnsembleTreeRegressor, 'num_trees', np.arange(1, 15), r2_score, X_train, X_test, y_train, y_test) "
      ]
    },
    {
      "cell_type": "code",
      "execution_count": null,
      "metadata": {
        "colab": {
          "base_uri": "https://localhost:8080/",
          "height": 489
        },
        "id": "oJacfq19ILJl",
        "outputId": "4d14e86e-eb70-41fc-bdbe-ba420b124334"
      },
      "outputs": [
        {
          "name": "stderr",
          "output_type": "stream",
          "text": [
            "100%|██████████| 9/9 [00:24<00:00,  2.68s/it]\n"
          ]
        },
        {
          "data": {
            "image/png": "[encoded data removed]",
            "text/plain": [
              "<Figure size 640x480 with 1 Axes>"
            ]
          },
          "metadata": {},
          "output_type": "display_data"
        }
      ],
      "source": [
        "fit_curve_plot(EnsembleTreeRegressor, 'samples_frac', np.arange(0.1, 1, 0.1), r2_score, X_train, X_test, y_train, y_test) "
      ]
    }
  ],
  "metadata": {
    "colab": {
      "provenance": []
    },
    "gpuClass": "standard",
    "kernelspec": {
      "display_name": "base",
      "language": "python",
      "name": "python3"
    },
    "language_info": {
      "codemirror_mode": {
        "name": "ipython",
        "version": 3
      },
      "file_extension": ".py",
      "mimetype": "text/x-python",
      "name": "python",
      "nbconvert_exporter": "python",
      "pygments_lexer": "ipython3",
      "version": "3.8.15"
    },
    "vscode": {
      "interpreter": {
        "hash": "e4cce46d6be9934fbd27f9ca0432556941ea5bdf741d4f4d64c6cd7f8dfa8fba"
      }
    }
  },
  "nbformat": 4,
  "nbformat_minor": 0
}
